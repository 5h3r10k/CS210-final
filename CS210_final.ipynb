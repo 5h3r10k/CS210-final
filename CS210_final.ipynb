{
 "cells": [
  {
   "cell_type": "markdown",
   "metadata": {},
   "source": [
    "# Introduction to the Project\n",
    "\n",
    "We will be analyzing a movies data set from TMDB. \n",
    "\n",
    "We will be:\n",
    "- Cleaning the data\n",
    "- Storing the data in a database\n",
    "- Analyzing/Visualizing the data\n",
    "- Building predictive models"
   ]
  },
  {
   "cell_type": "markdown",
   "metadata": {},
   "source": [
    "# Step 0: Imports and file loading"
   ]
  },
  {
   "cell_type": "code",
   "execution_count": 11,
   "metadata": {},
   "outputs": [
    {
     "name": "stdout",
     "output_type": "stream",
     "text": [
      "Requirement already satisfied: pandas in /Library/Frameworks/Python.framework/Versions/3.12/lib/python3.12/site-packages (2.2.0)\n",
      "Requirement already satisfied: numpy<2,>=1.26.0 in /Library/Frameworks/Python.framework/Versions/3.12/lib/python3.12/site-packages (from pandas) (1.26.4)\n",
      "Requirement already satisfied: python-dateutil>=2.8.2 in /Users/ishaanv/Library/Python/3.12/lib/python/site-packages (from pandas) (2.8.2)\n",
      "Requirement already satisfied: pytz>=2020.1 in /Library/Frameworks/Python.framework/Versions/3.12/lib/python3.12/site-packages (from pandas) (2024.1)\n",
      "Requirement already satisfied: tzdata>=2022.7 in /Library/Frameworks/Python.framework/Versions/3.12/lib/python3.12/site-packages (from pandas) (2023.4)\n",
      "Requirement already satisfied: six>=1.5 in /Users/ishaanv/Library/Python/3.12/lib/python/site-packages (from python-dateutil>=2.8.2->pandas) (1.16.0)\n"
     ]
    }
   ],
   "source": [
    "!pip3 install pandas"
   ]
  },
  {
   "cell_type": "code",
   "execution_count": 12,
   "metadata": {},
   "outputs": [],
   "source": [
    "import pandas as pd"
   ]
  },
  {
   "cell_type": "code",
   "execution_count": 13,
   "metadata": {},
   "outputs": [
    {
     "name": "stdout",
     "output_type": "stream",
     "text": [
      "1131886 movies loaded\n"
     ]
    }
   ],
   "source": [
    "movies_raw = pd.read_csv('tmdb_movies.csv')\n",
    "\n",
    "print(len(movies_raw), 'movies loaded')"
   ]
  },
  {
   "cell_type": "markdown",
   "metadata": {},
   "source": [
    "# Step 1: Data Comprehension and Cleaning\n",
    "\n",
    "This step consists of the following tasks:\n",
    "- Examining the data\n",
    "- Deciding which data to discard\n",
    "- Cleaning the remaining data"
   ]
  },
  {
   "cell_type": "markdown",
   "metadata": {},
   "source": [
    "## Step 1.1: Examining the data\n",
    "\n",
    "We will explore the columns of the dataset and their types."
   ]
  },
  {
   "cell_type": "code",
   "execution_count": 14,
   "metadata": {},
   "outputs": [
    {
     "name": "stdout",
     "output_type": "stream",
     "text": [
      "       id            title  vote_average  vote_count    status release_date  \\\n",
      "0   27205        Inception         8.364       34495  Released   2010-07-15   \n",
      "1  157336     Interstellar         8.417       32571  Released   2014-11-05   \n",
      "2     155  The Dark Knight         8.512       30619  Released   2008-07-16   \n",
      "3   19995           Avatar         7.573       29815  Released   2009-12-15   \n",
      "4   24428     The Avengers         7.710       29166  Released   2012-04-25   \n",
      "\n",
      "      revenue  runtime  adult                     backdrop_path  ...  \\\n",
      "0   825532764      148  False  /8ZTVqvKDQ8emSGUEMjsS4yHAwrp.jpg  ...   \n",
      "1   701729206      169  False  /pbrkL804c8yAv3zBZR4QPEafpAR.jpg  ...   \n",
      "2  1004558444      152  False  /nMKdUUepR0i5zn0y1T4CsSB5chy.jpg  ...   \n",
      "3  2923706026      162  False  /vL5LR6WdxWPjLPFRLe133jXWsh5.jpg  ...   \n",
      "4  1518815515      143  False  /9BBTo63ANSmhC4e6r62OJFuK2GL.jpg  ...   \n",
      "\n",
      "    original_title                                           overview  \\\n",
      "0        Inception  Cobb, a skilled thief who commits corporate es...   \n",
      "1     Interstellar  The adventures of a group of explorers who mak...   \n",
      "2  The Dark Knight  Batman raises the stakes in his war on crime. ...   \n",
      "3           Avatar  In the 22nd century, a paraplegic Marine is di...   \n",
      "4     The Avengers  When an unexpected enemy emerges and threatens...   \n",
      "\n",
      "  popularity                       poster_path  \\\n",
      "0     83.952  /oYuLEt3zVCKq57qu2F8dT7NIa6f.jpg   \n",
      "1    140.241  /gEU2QniE6E77NI6lCU6MxlNBvIx.jpg   \n",
      "2    130.643  /qJ2tW6WMUDux911r6m7haRef0WH.jpg   \n",
      "3     79.932  /kyeqWdyUXW608qlYkRqosgbbJyK.jpg   \n",
      "4     98.082   /RYMX2wcKCBAr24UyPD7xwmjaTn.jpg   \n",
      "\n",
      "                                             tagline  \\\n",
      "0               Your mind is the scene of the crime.   \n",
      "1  Mankind was born on Earth. It was never meant ...   \n",
      "2                  Welcome to a world without rules.   \n",
      "3                        Enter the world of Pandora.   \n",
      "4                            Some assembly required.   \n",
      "\n",
      "                                        genres  \\\n",
      "0           Action, Science Fiction, Adventure   \n",
      "1            Adventure, Drama, Science Fiction   \n",
      "2               Drama, Action, Crime, Thriller   \n",
      "3  Action, Adventure, Fantasy, Science Fiction   \n",
      "4           Science Fiction, Action, Adventure   \n",
      "\n",
      "                                production_companies  \\\n",
      "0  Legendary Pictures, Syncopy, Warner Bros. Pict...   \n",
      "1  Legendary Pictures, Syncopy, Lynda Obst Produc...   \n",
      "2  DC Comics, Legendary Pictures, Syncopy, Isobel...   \n",
      "3  Dune Entertainment, Lightstorm Entertainment, ...   \n",
      "4                                     Marvel Studios   \n",
      "\n",
      "                       production_countries  \\\n",
      "0  United Kingdom, United States of America   \n",
      "1  United Kingdom, United States of America   \n",
      "2  United Kingdom, United States of America   \n",
      "3  United States of America, United Kingdom   \n",
      "4                  United States of America   \n",
      "\n",
      "                     spoken_languages  \\\n",
      "0  English, French, Japanese, Swahili   \n",
      "1                             English   \n",
      "2                   English, Mandarin   \n",
      "3                    English, Spanish   \n",
      "4             English, Hindi, Russian   \n",
      "\n",
      "                                            keywords  \n",
      "0  rescue, mission, dream, airplane, paris, franc...  \n",
      "1  rescue, future, spacecraft, race against time,...  \n",
      "2  joker, sadism, chaos, secret identity, crime f...  \n",
      "3  future, society, culture clash, space travel, ...  \n",
      "4  new york city, superhero, shield, based on com...  \n",
      "\n",
      "[5 rows x 24 columns]\n"
     ]
    }
   ],
   "source": [
    "print(movies_raw.head())"
   ]
  },
  {
   "cell_type": "code",
   "execution_count": 15,
   "metadata": {},
   "outputs": [
    {
     "name": "stdout",
     "output_type": "stream",
     "text": [
      "Index(['id', 'title', 'vote_average', 'vote_count', 'status', 'release_date',\n",
      "       'revenue', 'runtime', 'adult', 'backdrop_path', 'budget', 'homepage',\n",
      "       'imdb_id', 'original_language', 'original_title', 'overview',\n",
      "       'popularity', 'poster_path', 'tagline', 'genres',\n",
      "       'production_companies', 'production_countries', 'spoken_languages',\n",
      "       'keywords'],\n",
      "      dtype='object')\n"
     ]
    }
   ],
   "source": [
    "print(movies_raw.columns)"
   ]
  },
  {
   "cell_type": "markdown",
   "metadata": {},
   "source": [
    "## Step 1.2: Deciding which data to discard\n",
    "\n",
    "After viewing the list of columns, we will decide which columns to keep and which to discard.\n",
    "\n",
    "Columns to keep:\n",
    "- title\n",
    "- vote_average\n",
    "- release_date\n",
    "- revenue\n",
    "- runtime\n",
    "- budget\n",
    "- genres\n",
    "- keywords\n",
    "\n",
    "Records to discard:\n",
    "- Any rows with `adult` set to `True`. We want to keep this data family-friendly.\n",
    "- Any rows with `vote_count` set to 0. We want to keep only the movies that have been rated by the public.\n",
    "- Any rows with `budget` set to 0. We want to keep only the movies that have a budget.\n",
    "- Any rows with `status` not set to `Released`. We want to keep only the movies that have been released.\n",
    "- Duplicate rows."
   ]
  },
  {
   "cell_type": "markdown",
   "metadata": {},
   "source": [
    "## Step 1.3: Cleaning the remaining data\n",
    "\n",
    "1. Discarding the records we don't need.\n",
    "2. Discarding the columns we don't need. \n",
    "3. Discarding any duplicate rows.\n",
    "4. Discarding any rows with missing values.\n",
    "5. Check the data types of the columns and convert them to the correct data types if necessary."
   ]
  },
  {
   "cell_type": "code",
   "execution_count": 16,
   "metadata": {},
   "outputs": [
    {
     "name": "stdout",
     "output_type": "stream",
     "text": [
      "1131886 movies before cleaning\n",
      "10263931026393 movies after removing adult movies\n",
      "330547 movies after removing movies with no vote count\n",
      "27124 movies after removing movies with no budget\n",
      "27112 movies after removing movies that are not released\n"
     ]
    }
   ],
   "source": [
    "# initializing the cleaned movies dataframe\n",
    "movies_cleaned = movies_raw.copy()\n",
    "\n",
    "print(len(movies_raw), 'movies before cleaning')\n",
    "\n",
    "\n",
    "# Remove unneeded records\n",
    "\n",
    "# Remove adult movies\n",
    "movies_cleaned = movies_cleaned[movies_cleaned['adult'] == False]\n",
    "print(len(movies_cleaned), 'movies after removing adult movies')\n",
    "\n",
    "# Remove movies with no vote count\n",
    "movies_cleaned = movies_cleaned[movies_cleaned['vote_count'] > 0]\n",
    "print(len(movies_cleaned), 'movies after removing movies with no vote count')\n",
    "\n",
    "# Remove movies with no budget\n",
    "movies_cleaned = movies_cleaned[movies_cleaned['budget'] > 0]\n",
    "print(len(movies_cleaned), 'movies after removing movies with no budget')\n",
    "\n",
    "# Remove movies that aren't released\n",
    "movies_cleaned = movies_cleaned[movies_cleaned['status'] == 'Released']\n",
    "print(len(movies_cleaned), 'movies after removing movies that are not released')"
   ]
  },
  {
   "cell_type": "code",
   "execution_count": 17,
   "metadata": {},
   "outputs": [
    {
     "name": "stdout",
     "output_type": "stream",
     "text": [
      "       id            title  vote_average release_date     revenue  runtime  \\\n",
      "0   27205        Inception         8.364   2010-07-15   825532764      148   \n",
      "1  157336     Interstellar         8.417   2014-11-05   701729206      169   \n",
      "2     155  The Dark Knight         8.512   2008-07-16  1004558444      152   \n",
      "3   19995           Avatar         7.573   2009-12-15  2923706026      162   \n",
      "4   24428     The Avengers         7.710   2012-04-25  1518815515      143   \n",
      "\n",
      "      budget                                       genres  \\\n",
      "0  160000000           Action, Science Fiction, Adventure   \n",
      "1  165000000            Adventure, Drama, Science Fiction   \n",
      "2  185000000               Drama, Action, Crime, Thriller   \n",
      "3  237000000  Action, Adventure, Fantasy, Science Fiction   \n",
      "4  220000000           Science Fiction, Action, Adventure   \n",
      "\n",
      "                                            keywords  \n",
      "0  rescue, mission, dream, airplane, paris, franc...  \n",
      "1  rescue, future, spacecraft, race against time,...  \n",
      "2  joker, sadism, chaos, secret identity, crime f...  \n",
      "3  future, society, culture clash, space travel, ...  \n",
      "4  new york city, superhero, shield, based on com...  \n"
     ]
    }
   ],
   "source": [
    "# Discarding columns that are not needed\n",
    "\n",
    "columns_to_keep = ['id','title', 'vote_average', 'release_date', 'revenue', 'runtime', 'budget', 'genres', 'keywords']\n",
    "\n",
    "movies_cleaned = movies_cleaned[columns_to_keep]\n",
    "\n",
    "print(movies_cleaned.head())"
   ]
  },
  {
   "cell_type": "code",
   "execution_count": 18,
   "metadata": {},
   "outputs": [
    {
     "name": "stdout",
     "output_type": "stream",
     "text": [
      "27108 movies after removing duplicates\n",
      "18977 movies after removing records with missing values\n"
     ]
    }
   ],
   "source": [
    "# Discarding duplicates\n",
    "\n",
    "movies_cleaned = movies_cleaned.drop_duplicates()\n",
    "print(len(movies_cleaned), 'movies after removing duplicates')\n",
    "\n",
    "# Discarding records with missing values\n",
    "movies_cleaned = movies_cleaned.dropna()\n",
    "print(len(movies_cleaned), 'movies after removing records with missing values')"
   ]
  },
  {
   "cell_type": "markdown",
   "metadata": {},
   "source": [
    "### Data Type Cleanup\n",
    "\n",
    "Each column should be the following type:\n",
    "- `id`: integer\n",
    "- `title`: string\n",
    "- `vote_average`: float\n",
    "- `release_date`\n",
    "  - Since we don't need the exact month/day, we will only keep the year. This can be converted to an integer.\n",
    "  - We will change the column name to `release_year`.\n",
    "- `revenue`: integer\n",
    "- `runtime`: integer\n",
    "- `budget`: integer\n",
    "- `popularity`: float\n",
    "- `genres`: string\n",
    "- `keywords`: string"
   ]
  },
  {
   "cell_type": "code",
   "execution_count": 19,
   "metadata": {},
   "outputs": [
    {
     "name": "stdout",
     "output_type": "stream",
     "text": [
      "id                int64\n",
      "title            object\n",
      "vote_average    float64\n",
      "release_date     object\n",
      "revenue           int64\n",
      "runtime           int64\n",
      "budget            int64\n",
      "genres           object\n",
      "keywords         object\n",
      "dtype: object\n",
      "       id            title  vote_average  release_year     revenue  runtime  \\\n",
      "0   27205        Inception         8.364          2010   825532764      148   \n",
      "1  157336     Interstellar         8.417          2014   701729206      169   \n",
      "2     155  The Dark Knight         8.512          2008  1004558444      152   \n",
      "3   19995           Avatar         7.573          2009  2923706026      162   \n",
      "4   24428     The Avengers         7.710          2012  1518815515      143   \n",
      "\n",
      "      budget                                       genres  \\\n",
      "0  160000000           Action, Science Fiction, Adventure   \n",
      "1  165000000            Adventure, Drama, Science Fiction   \n",
      "2  185000000               Drama, Action, Crime, Thriller   \n",
      "3  237000000  Action, Adventure, Fantasy, Science Fiction   \n",
      "4  220000000           Science Fiction, Action, Adventure   \n",
      "\n",
      "                                            keywords  \n",
      "0  rescue, mission, dream, airplane, paris, franc...  \n",
      "1  rescue, future, spacecraft, race against time,...  \n",
      "2  joker, sadism, chaos, secret identity, crime f...  \n",
      "3  future, society, culture clash, space travel, ...  \n",
      "4  new york city, superhero, shield, based on com...  \n"
     ]
    }
   ],
   "source": [
    "# Type cleanup\n",
    "\n",
    "# Print the types of each column\n",
    "print(movies_cleaned.dtypes)\n",
    "\n",
    "# Clean up the release_date column\n",
    "# Extract the year (first 4 characters) and convert to integer\n",
    "# Rename the column to release_year\n",
    "movies_cleaned['release_date'] = movies_cleaned['release_date'].str[:4].astype(int)\n",
    "movies_cleaned.rename(columns={'release_date': 'release_year'}, inplace=True)\n",
    "\n",
    "print(movies_cleaned.head())"
   ]
  },
  {
   "cell_type": "markdown",
   "metadata": {},
   "source": [
    "# Step 2: Storing the data in a database\n",
    "\n",
    "We will store the cleaned data in a SQLite database. We will create a table called `movies` and insert the data into it."
   ]
  },
  {
   "cell_type": "markdown",
   "metadata": {},
   "source": [
    "## Database Schema\n",
    "\n",
    "The `movies` table will have the following columns:\n",
    "- `id`: INTEGER PRIMARY KEY\n",
    "- `title`: VARCHAR\n",
    "- `vote_average`: FLOAT\n",
    "- `release_year`: INTEGER\n",
    "- `revenue`: INTEGER\n",
    "- `runtime`: INTEGER\n",
    "- `budget`: INTEGER\n",
    "- `genres`: VARCHAR\n",
    "- `keywords`: VARCHAR\n",
    "\n",
    "None of the columns will allow NULL values."
   ]
  },
  {
   "cell_type": "code",
   "execution_count": 20,
   "metadata": {},
   "outputs": [],
   "source": [
    "import sqlite3\n",
    "\n",
    "conn = sqlite3.connect('movies.db')\n",
    "cursor = conn.cursor()\n",
    "\n",
    "create_table = '''\n",
    "CREATE TABLE movies (\n",
    "    id INTEGER PRIMARY KEY,\n",
    "    title TEXT NOT NULL,\n",
    "    vote_average REAL NOT NULL,\n",
    "    release_year INTEGER NOT NULL,\n",
    "    revenue INTEGER NOT NULL,\n",
    "    runtime INTEGER NOT NULL,\n",
    "    budget INTEGER NOT NULL,\n",
    "    genres TEXT NOT NULL,\n",
    "    keywords TEXT NOT NULL\n",
    ");\n",
    "'''\n",
    "\n",
    "cursor.execute(create_table)\n",
    "conn.commit()"
   ]
  },
  {
   "cell_type": "code",
   "execution_count": 21,
   "metadata": {},
   "outputs": [
    {
     "data": {
      "text/plain": [
       "[(0, 'id', 'INTEGER', 0, None, 1),\n",
       " (1, 'title', 'TEXT', 1, None, 0),\n",
       " (2, 'vote_average', 'REAL', 1, None, 0),\n",
       " (3, 'release_year', 'INTEGER', 1, None, 0),\n",
       " (4, 'revenue', 'INTEGER', 1, None, 0),\n",
       " (5, 'runtime', 'INTEGER', 1, None, 0),\n",
       " (6, 'budget', 'INTEGER', 1, None, 0),\n",
       " (7, 'genres', 'TEXT', 1, None, 0),\n",
       " (8, 'keywords', 'TEXT', 1, None, 0)]"
      ]
     },
     "execution_count": 21,
     "metadata": {},
     "output_type": "execute_result"
    }
   ],
   "source": [
    "# Describing the SQL table\n",
    "cursor.execute('PRAGMA table_info(movies);')\n",
    "cursor.fetchall()"
   ]
  },
  {
   "cell_type": "markdown",
   "metadata": {},
   "source": [
    "## Inserting the Data"
   ]
  },
  {
   "cell_type": "code",
   "execution_count": 22,
   "metadata": {},
   "outputs": [],
   "source": [
    "# Inserting the cleaned data into the SQL table\n",
    "for index, row in movies_cleaned.iterrows():\n",
    "    insert_sql = '''\n",
    "    INSERT INTO movies (id, title, vote_average, release_year, revenue, runtime, budget, genres, keywords)\n",
    "    VALUES (?, ?, ?, ?, ?, ?, ?, ?, ?);\n",
    "    '''\n",
    "    cursor.execute(insert_sql, tuple(row))"
   ]
  },
  {
   "cell_type": "markdown",
   "metadata": {},
   "source": [
    "# Step 3: Analyzing/Visualizing the data\n",
    "\n",
    "We will first query the database to explore some patterns and ideas in the data. We will then visualize some more complex relationships."
   ]
  },
  {
   "cell_type": "markdown",
   "metadata": {},
   "source": [
    "## Step 3.1: Database Queries\n",
    "\n",
    "Some questions we will answer (in order of increasing complexity):\n",
    "- Which 10 movies have the highest revenue?\n",
    "- What is the average revenue of movies released each year since 2000?\n",
    "- What is the longest movie every year since 2000?"
   ]
  },
  {
   "cell_type": "code",
   "execution_count": 23,
   "metadata": {},
   "outputs": [],
   "source": [
    "def run_query(query):\n",
    "    cursor.execute(query)\n",
    "    return cursor.fetchall()"
   ]
  },
  {
   "cell_type": "code",
   "execution_count": 24,
   "metadata": {},
   "outputs": [
    {
     "data": {
      "text/plain": [
       "[('TikTok Rizz Party', 2024, 3000000000),\n",
       " ('Avatar', 2009, 2923706026),\n",
       " ('Avengers: Endgame', 2019, 2800000000),\n",
       " ('Avatar: The Way of Water', 2022, 2320250281),\n",
       " ('Titanic', 1997, 2264162353),\n",
       " ('Star Wars: The Force Awakens', 2015, 2068223624),\n",
       " ('Avengers: Infinity War', 2018, 2052415039),\n",
       " ('Spider-Man: No Way Home', 2021, 1921847111),\n",
       " ('Jurassic World', 2015, 1671537444),\n",
       " ('The Lion King', 2019, 1663075401)]"
      ]
     },
     "execution_count": 24,
     "metadata": {},
     "output_type": "execute_result"
    }
   ],
   "source": [
    "# 10 movies with the highest revenue\n",
    "query_top10 = '''\n",
    "SELECT title, release_year, revenue\n",
    "FROM movies\n",
    "ORDER BY revenue DESC\n",
    "LIMIT 10;\n",
    "'''\n",
    "\n",
    "run_query(query_top10)"
   ]
  },
  {
   "cell_type": "code",
   "execution_count": 25,
   "metadata": {},
   "outputs": [
    {
     "data": {
      "text/plain": [
       "[(2000, 49320522.35797665),\n",
       " (2001, 52180193.9862069),\n",
       " (2002, 52325932.7073955),\n",
       " (2003, 57466050.39261745),\n",
       " (2004, 46218535.71428572),\n",
       " (2005, 40541261.79118329),\n",
       " (2006, 38088290.20647773),\n",
       " (2007, 38093211.96526508),\n",
       " (2008, 40056115.37569061),\n",
       " (2009, 41753390.09326425),\n",
       " (2010, 41661744.09217391),\n",
       " (2011, 42494804.20032841),\n",
       " (2012, 44144644.291666664),\n",
       " (2013, 38210344.71568628),\n",
       " (2014, 37834552.60733695),\n",
       " (2015, 38025548.87466307),\n",
       " (2016, 40344976.4038961),\n",
       " (2017, 40902901.09018568),\n",
       " (2018, 39114226.737617135),\n",
       " (2019, 42170149.05780347),\n",
       " (2020, 8454342.57766143)]"
      ]
     },
     "execution_count": 25,
     "metadata": {},
     "output_type": "execute_result"
    }
   ],
   "source": [
    "# Average revenue of movies released each year from 2000 to 2020\n",
    "query_avg_revenue = '''\n",
    "SELECT release_year, AVG(revenue)\n",
    "FROM movies\n",
    "WHERE release_year BETWEEN 2000 AND 2020\n",
    "GROUP BY release_year\n",
    "ORDER BY release_year;\n",
    "'''\n",
    "\n",
    "run_query(query_avg_revenue)"
   ]
  },
  {
   "cell_type": "code",
   "execution_count": 26,
   "metadata": {},
   "outputs": [
    {
     "data": {
      "text/plain": [
       "[(2000, 'Mohabbatein', 216),\n",
       " (2001, 'Lagaan: Once Upon a Time in India', 224),\n",
       " (2002, 'Jee Aayan Nu', 187),\n",
       " (2003, 'Gods and Generals', 219),\n",
       " (2004, 'Kingdom Hospital', 608),\n",
       " (2005, 'No Direction Home: Bob Dylan', 208),\n",
       " (2006, 'Confessions of a Dog', 195),\n",
       " (2007, 'Salaam-e-Ishq', 216),\n",
       " (2008, 'Beijing 2008 Olympic Opening Ceremony', 240),\n",
       " (2009, 'Kerala Varma Pazhassi Raja', 197),\n",
       " (2010, 'Carlos', 339),\n",
       " (2011, 'Kill Bill: The Whole Bloody Affair', 247),\n",
       " (2012, 'Barabbas', 192),\n",
       " (2013, 'Bhaag Milkha Bhaag', 186),\n",
       " (2014, 'From What Is Before', 345),\n",
       " (2015, 'Dyakon Levski', 210),\n",
       " (2016, 'Kammatipaadam', 177),\n",
       " (2017, 'Europa: The Last Battle', 746),\n",
       " (2018, 'God of War', 999),\n",
       " (2019, '2019: A Cinematic Odyssey', 480),\n",
       " (2020, 'From Bedrooms to Billions: The PlayStation Revolution', 202)]"
      ]
     },
     "execution_count": 26,
     "metadata": {},
     "output_type": "execute_result"
    }
   ],
   "source": [
    "# Longest movie each year from 2000 to present (1 movie per year)\n",
    "query_longest_movie = '''\n",
    "SELECT release_year, title, runtime\n",
    "FROM movies\n",
    "WHERE release_year BETWEEN 2000 AND 2020\n",
    "GROUP BY release_year\n",
    "HAVING runtime = MAX(runtime)\n",
    "ORDER BY release_year;\n",
    "'''\n",
    "\n",
    "run_query(query_longest_movie)"
   ]
  },
  {
   "cell_type": "markdown",
   "metadata": {},
   "source": [
    "## Step 3.2: Data Visualization\n",
    "\n",
    "We will visualize the following relationships:\n",
    "- Number of movies released each year from 1922 to 2022 (bar chart)\n",
    "- Average revenue of movies released each year from 1950 to 2022 (line chart)\n",
    "- Average runtime of movies released each year since 2000 (line chart)\n",
    "\n",
    "We will be using the `matplotlib` library for visualization."
   ]
  },
  {
   "cell_type": "code",
   "execution_count": 27,
   "metadata": {},
   "outputs": [
    {
     "name": "stdout",
     "output_type": "stream",
     "text": [
      "Requirement already satisfied: matplotlib in /Library/Frameworks/Python.framework/Versions/3.12/lib/python3.12/site-packages (3.8.2)\n",
      "Requirement already satisfied: contourpy>=1.0.1 in /Library/Frameworks/Python.framework/Versions/3.12/lib/python3.12/site-packages (from matplotlib) (1.2.0)\n",
      "Requirement already satisfied: cycler>=0.10 in /Library/Frameworks/Python.framework/Versions/3.12/lib/python3.12/site-packages (from matplotlib) (0.12.1)\n",
      "Requirement already satisfied: fonttools>=4.22.0 in /Library/Frameworks/Python.framework/Versions/3.12/lib/python3.12/site-packages (from matplotlib) (4.48.1)\n",
      "Requirement already satisfied: kiwisolver>=1.3.1 in /Library/Frameworks/Python.framework/Versions/3.12/lib/python3.12/site-packages (from matplotlib) (1.4.5)\n",
      "Requirement already satisfied: numpy<2,>=1.21 in /Library/Frameworks/Python.framework/Versions/3.12/lib/python3.12/site-packages (from matplotlib) (1.26.4)\n",
      "Requirement already satisfied: packaging>=20.0 in /Users/ishaanv/Library/Python/3.12/lib/python/site-packages (from matplotlib) (23.2)\n",
      "Requirement already satisfied: pillow>=8 in /Library/Frameworks/Python.framework/Versions/3.12/lib/python3.12/site-packages (from matplotlib) (10.2.0)\n",
      "Requirement already satisfied: pyparsing>=2.3.1 in /Library/Frameworks/Python.framework/Versions/3.12/lib/python3.12/site-packages (from matplotlib) (3.1.1)\n",
      "Requirement already satisfied: python-dateutil>=2.7 in /Users/ishaanv/Library/Python/3.12/lib/python/site-packages (from matplotlib) (2.8.2)\n",
      "Requirement already satisfied: six>=1.5 in /Users/ishaanv/Library/Python/3.12/lib/python/site-packages (from python-dateutil>=2.7->matplotlib) (1.16.0)\n"
     ]
    }
   ],
   "source": [
    "!pip3 install matplotlib\n",
    "import matplotlib.pyplot as plt"
   ]
  },
  {
   "cell_type": "code",
   "execution_count": 28,
   "metadata": {},
   "outputs": [
    {
     "data": {
      "image/png": "[encoded data removed]",
      "text/plain": [
       "<Figure size 640x480 with 1 Axes>"
      ]
     },
     "metadata": {},
     "output_type": "display_data"
    }
   ],
   "source": [
    "# Number of movies released each year from 1922 to 2022\n",
    "query_movies_per_year = '''\n",
    "SELECT release_year, COUNT(*)\n",
    "FROM movies\n",
    "WHERE release_year BETWEEN 1922 AND 2022\n",
    "GROUP BY release_year\n",
    "ORDER BY release_year;\n",
    "'''\n",
    "\n",
    "movies_per_year = run_query(query_movies_per_year)\n",
    "\n",
    "years = [row[0] for row in movies_per_year]\n",
    "num_movies = [row[1] for row in movies_per_year]\n",
    "\n",
    "plt.plot(years, num_movies)\n",
    "plt.xlabel('Year')\n",
    "plt.ylabel('Number of movies released')\n",
    "plt.title('Number of movies released each year from 1922 to 2022')\n",
    "plt.show()"
   ]
  },
  {
   "cell_type": "code",
   "execution_count": 29,
   "metadata": {},
   "outputs": [
    {
     "data": {
      "image/png": "[encoded data removed]",
      "text/plain": [
       "<Figure size 640x480 with 1 Axes>"
      ]
     },
     "metadata": {},
     "output_type": "display_data"
    }
   ],
   "source": [
    "# Average revenue of movies released each year from 1950 to 2022\n",
    "query_avg_revenue = '''\n",
    "SELECT release_year, AVG(revenue)\n",
    "FROM movies\n",
    "WHERE release_year BETWEEN 1950 AND 2022\n",
    "GROUP BY release_year\n",
    "ORDER BY release_year;\n",
    "'''\n",
    "\n",
    "avg_revenue = run_query(query_avg_revenue)\n",
    "\n",
    "years = [row[0] for row in avg_revenue]\n",
    "revenue = [row[1] for row in avg_revenue]\n",
    "\n",
    "plt.plot(years, revenue)\n",
    "plt.xlabel('Year')\n",
    "plt.ylabel('Average revenue')\n",
    "plt.title('Average revenue of movies released each year from 1950 to 2022')\n",
    "plt.show()"
   ]
  },
  {
   "cell_type": "code",
   "execution_count": 30,
   "metadata": {},
   "outputs": [
    {
     "data": {
      "image/png": "[encoded data removed]",
      "text/plain": [
       "<Figure size 640x480 with 1 Axes>"
      ]
     },
     "metadata": {},
     "output_type": "display_data"
    }
   ],
   "source": [
    "# Average runtime of movies released each year to present\n",
    "query_avg_runtime = '''\n",
    "SELECT release_year, AVG(runtime)\n",
    "FROM movies\n",
    "GROUP BY release_year\n",
    "ORDER BY release_year;\n",
    "'''\n",
    "\n",
    "avg_runtime = run_query(query_avg_runtime)\n",
    "\n",
    "years = [row[0] for row in avg_runtime]\n",
    "runtime = [row[1] for row in avg_runtime]\n",
    "\n",
    "plt.plot(years, runtime)\n",
    "plt.xlabel('Year')\n",
    "plt.ylabel('Average runtime')\n",
    "plt.title('Average runtime of movies released each year to present')\n",
    "plt.show()"
   ]
  },
  {
   "cell_type": "markdown",
   "metadata": {},
   "source": [
    "# Step 4: Building Predictive Models\n",
    "\n",
    "We will build a predictive model to predict the revenue of a movie based on the following features:\n",
    "- `release_year`\n",
    "- `vote_average`\n",
    "- `runtime`\n",
    "- `budget`\n",
    "\n",
    "We will use the `scikit-learn` library to build the model. We will split the data into training and testing sets, train the model, and evaluate its performance. We will use the `R^2` score to evaluate the model."
   ]
  },
  {
   "cell_type": "code",
   "execution_count": 31,
   "metadata": {},
   "outputs": [
    {
     "name": "stdout",
     "output_type": "stream",
     "text": [
      "Requirement already satisfied: scikit-learn in /Library/Frameworks/Python.framework/Versions/3.12/lib/python3.12/site-packages (1.4.0)\n",
      "Requirement already satisfied: numpy<2.0,>=1.19.5 in /Library/Frameworks/Python.framework/Versions/3.12/lib/python3.12/site-packages (from scikit-learn) (1.26.4)\n",
      "Requirement already satisfied: scipy>=1.6.0 in /Library/Frameworks/Python.framework/Versions/3.12/lib/python3.12/site-packages (from scikit-learn) (1.12.0)\n",
      "Requirement already satisfied: joblib>=1.2.0 in /Library/Frameworks/Python.framework/Versions/3.12/lib/python3.12/site-packages (from scikit-learn) (1.3.2)\n",
      "Requirement already satisfied: threadpoolctl>=2.0.0 in /Library/Frameworks/Python.framework/Versions/3.12/lib/python3.12/site-packages (from scikit-learn) (3.2.0)\n"
     ]
    }
   ],
   "source": [
    "!pip3 install scikit-learn\n",
    "from sklearn.linear_model import LinearRegression\n",
    "from sklearn.model_selection import train_test_split"
   ]
  },
  {
   "cell_type": "code",
   "execution_count": 32,
   "metadata": {},
   "outputs": [
    {
     "name": "stdout",
     "output_type": "stream",
     "text": [
      "Correlation R^2: 0.5509394161784363\n"
     ]
    }
   ],
   "source": [
    "# Let's predict revenue based on release year, runtime, budget, and rating\n",
    "\n",
    "# Split the data into training and testing sets\n",
    "X = movies_cleaned[['release_year', 'runtime', 'budget', 'vote_average']]\n",
    "y = movies_cleaned['revenue']\n",
    "\n",
    "X_train, X_test, y_train, y_test = train_test_split(X, y, test_size=0.2, random_state=42)\n",
    "\n",
    "# Train the model\n",
    "model = LinearRegression()\n",
    "model.fit(X_train, y_train)\n",
    "\n",
    "# Make predictions\n",
    "y_pred = model.predict(X_test)\n",
    "\n",
    "# Calculate the correlation R^2\n",
    "r2 = model.score(X_test, y_test)\n",
    "print('Correlation R^2:', r2)"
   ]
  },
  {
   "cell_type": "markdown",
   "metadata": {},
   "source": [
    "## Using the Model\n",
    "\n",
    "We will use the model to predict the revenue of a movie with the following features:\n",
    "- `release_year`: 2022\n",
    "- `vote_average`: 7.5\n",
    "- `runtime`: 120\n",
    "- `budget`: 10,000,000"
   ]
  },
  {
   "cell_type": "code",
   "execution_count": 33,
   "metadata": {},
   "outputs": [
    {
     "name": "stdout",
     "output_type": "stream",
     "text": [
      "Predicted revenue: 26244374.22721669\n"
     ]
    },
    {
     "name": "stderr",
     "output_type": "stream",
     "text": [
      "/Library/Frameworks/Python.framework/Versions/3.12/lib/python3.12/site-packages/sklearn/base.py:493: UserWarning: X does not have valid feature names, but LinearRegression was fitted with feature names\n",
      "  warnings.warn(\n"
     ]
    }
   ],
   "source": [
    "pred_release_year = 2022\n",
    "pred_runtime = 120\n",
    "pred_budget = 10000000\n",
    "pred_rating = 7.5\n",
    "\n",
    "pred_revenue = model.predict([[pred_release_year, pred_runtime, pred_budget, pred_rating]])[0]\n",
    "print('Predicted revenue:', pred_revenue)"
   ]
  }
 ],
 "metadata": {
  "kernelspec": {
   "display_name": "Python 3",
   "language": "python",
   "name": "python3"
  },
  "language_info": {
   "codemirror_mode": {
    "name": "ipython",
    "version": 3
   },
   "file_extension": ".py",
   "mimetype": "text/x-python",
   "name": "python",
   "nbconvert_exporter": "python",
   "pygments_lexer": "ipython3",
   "version": "3.12.0"
  }
 },
 "nbformat": 4,
 "nbformat_minor": 2
}
